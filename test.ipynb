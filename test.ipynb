{
 "cells": [
  {
   "cell_type": "code",
   "execution_count": 6,
   "metadata": {},
   "outputs": [
    {
     "name": "stdout",
     "output_type": "stream",
     "text": [
      "8427\n",
      "(53, 53)\n",
      "Interface starting at http://127.0.0.1:8521\n"
     ]
    },
    {
     "ename": "RuntimeError",
     "evalue": "This event loop is already running",
     "output_type": "error",
     "traceback": [
      "\u001b[0;31m---------------------------------------------------------------------------\u001b[0m",
      "\u001b[0;31mRuntimeError\u001b[0m                              Traceback (most recent call last)",
      "\u001b[1;32m/home/simone/Unipi/InProgress/CMCS/CMCS-2024/test.ipynb Cell 1\u001b[0m line \u001b[0;36m1\n\u001b[1;32m     <a href='vscode-notebook-cell:/home/simone/Unipi/InProgress/CMCS/CMCS-2024/test.ipynb#W4sZmlsZQ%3D%3D?line=11'>12</a>\u001b[0m canvas_element \u001b[39m=\u001b[39m mesa\u001b[39m.\u001b[39mvisualization\u001b[39m.\u001b[39mCanvasGrid(portrayCell, a\u001b[39m.\u001b[39mshape[\u001b[39m0\u001b[39m], a\u001b[39m.\u001b[39mshape[\u001b[39m1\u001b[39m], \u001b[39m500\u001b[39m, \u001b[39m500\u001b[39m)\n\u001b[1;32m     <a href='vscode-notebook-cell:/home/simone/Unipi/InProgress/CMCS/CMCS-2024/test.ipynb#W4sZmlsZQ%3D%3D?line=13'>14</a>\u001b[0m server \u001b[39m=\u001b[39m mesa\u001b[39m.\u001b[39mvisualization\u001b[39m.\u001b[39mModularServer(Intersection, [canvas_element], \u001b[39m\"\u001b[39m\u001b[39mIntersection\u001b[39m\u001b[39m\"\u001b[39m, {\u001b[39m'\u001b[39m\u001b[39mintersection_array\u001b[39m\u001b[39m'\u001b[39m: a})\n\u001b[0;32m---> <a href='vscode-notebook-cell:/home/simone/Unipi/InProgress/CMCS/CMCS-2024/test.ipynb#W4sZmlsZQ%3D%3D?line=15'>16</a>\u001b[0m server\u001b[39m.\u001b[39;49mlaunch()\n\u001b[1;32m     <a href='vscode-notebook-cell:/home/simone/Unipi/InProgress/CMCS/CMCS-2024/test.ipynb#W4sZmlsZQ%3D%3D?line=17'>18</a>\u001b[0m \u001b[39m# help(mesa.visualization.CanvasGrid)\u001b[39;00m\n",
      "File \u001b[0;32m~/Unipi/InProgress/CMCS/CMCS-2024/.env/lib/python3.11/site-packages/mesa_viz_tornado/ModularVisualization.py:407\u001b[0m, in \u001b[0;36mModularServer.launch\u001b[0;34m(self, port, open_browser)\u001b[0m\n\u001b[1;32m    405\u001b[0m tornado\u001b[39m.\u001b[39mautoreload\u001b[39m.\u001b[39mstart()\n\u001b[1;32m    406\u001b[0m \u001b[39mtry\u001b[39;00m:\n\u001b[0;32m--> 407\u001b[0m     tornado\u001b[39m.\u001b[39;49mioloop\u001b[39m.\u001b[39;49mIOLoop\u001b[39m.\u001b[39;49mcurrent()\u001b[39m.\u001b[39;49mstart()\n\u001b[1;32m    408\u001b[0m \u001b[39mexcept\u001b[39;00m \u001b[39mKeyboardInterrupt\u001b[39;00m:\n\u001b[1;32m    409\u001b[0m     tornado\u001b[39m.\u001b[39mioloop\u001b[39m.\u001b[39mIOLoop\u001b[39m.\u001b[39mcurrent()\u001b[39m.\u001b[39mstop()\n",
      "File \u001b[0;32m~/Unipi/InProgress/CMCS/CMCS-2024/.env/lib/python3.11/site-packages/tornado/platform/asyncio.py:205\u001b[0m, in \u001b[0;36mBaseAsyncIOLoop.start\u001b[0;34m(self)\u001b[0m\n\u001b[1;32m    204\u001b[0m \u001b[39mdef\u001b[39;00m \u001b[39mstart\u001b[39m(\u001b[39mself\u001b[39m) \u001b[39m-\u001b[39m\u001b[39m>\u001b[39m \u001b[39mNone\u001b[39;00m:\n\u001b[0;32m--> 205\u001b[0m     \u001b[39mself\u001b[39;49m\u001b[39m.\u001b[39;49masyncio_loop\u001b[39m.\u001b[39;49mrun_forever()\n",
      "File \u001b[0;32m/nix/store/qp5zys77biz7imbk6yy85q5pdv7qk84j-python3-3.11.6/lib/python3.11/asyncio/base_events.py:596\u001b[0m, in \u001b[0;36mBaseEventLoop.run_forever\u001b[0;34m(self)\u001b[0m\n\u001b[1;32m    594\u001b[0m \u001b[39m\u001b[39m\u001b[39m\"\"\"Run until stop() is called.\"\"\"\u001b[39;00m\n\u001b[1;32m    595\u001b[0m \u001b[39mself\u001b[39m\u001b[39m.\u001b[39m_check_closed()\n\u001b[0;32m--> 596\u001b[0m \u001b[39mself\u001b[39;49m\u001b[39m.\u001b[39;49m_check_running()\n\u001b[1;32m    597\u001b[0m \u001b[39mself\u001b[39m\u001b[39m.\u001b[39m_set_coroutine_origin_tracking(\u001b[39mself\u001b[39m\u001b[39m.\u001b[39m_debug)\n\u001b[1;32m    599\u001b[0m old_agen_hooks \u001b[39m=\u001b[39m sys\u001b[39m.\u001b[39mget_asyncgen_hooks()\n",
      "File \u001b[0;32m/nix/store/qp5zys77biz7imbk6yy85q5pdv7qk84j-python3-3.11.6/lib/python3.11/asyncio/base_events.py:588\u001b[0m, in \u001b[0;36mBaseEventLoop._check_running\u001b[0;34m(self)\u001b[0m\n\u001b[1;32m    586\u001b[0m \u001b[39mdef\u001b[39;00m \u001b[39m_check_running\u001b[39m(\u001b[39mself\u001b[39m):\n\u001b[1;32m    587\u001b[0m     \u001b[39mif\u001b[39;00m \u001b[39mself\u001b[39m\u001b[39m.\u001b[39mis_running():\n\u001b[0;32m--> 588\u001b[0m         \u001b[39mraise\u001b[39;00m \u001b[39mRuntimeError\u001b[39;00m(\u001b[39m'\u001b[39m\u001b[39mThis event loop is already running\u001b[39m\u001b[39m'\u001b[39m)\n\u001b[1;32m    589\u001b[0m     \u001b[39mif\u001b[39;00m events\u001b[39m.\u001b[39m_get_running_loop() \u001b[39mis\u001b[39;00m \u001b[39mnot\u001b[39;00m \u001b[39mNone\u001b[39;00m:\n\u001b[1;32m    590\u001b[0m         \u001b[39mraise\u001b[39;00m \u001b[39mRuntimeError\u001b[39;00m(\n\u001b[1;32m    591\u001b[0m             \u001b[39m'\u001b[39m\u001b[39mCannot run the event loop while another loop is running\u001b[39m\u001b[39m'\u001b[39m)\n",
      "\u001b[0;31mRuntimeError\u001b[0m: This event loop is already running"
     ]
    },
    {
     "name": "stdout",
     "output_type": "stream",
     "text": [
      "Socket opened!\n",
      "{\"type\":\"reset\"}\n"
     ]
    },
    {
     "name": "stderr",
     "output_type": "stream",
     "text": [
      "WARNING:tornado.access:404 GET /local/custom/circl (127.0.0.1) 1.28ms\n"
     ]
    },
    {
     "ename": "",
     "evalue": "",
     "output_type": "error",
     "traceback": [
      "\u001b[1;31mThe Kernel crashed while executing code in the the current cell or a previous cell. Please review the code in the cell(s) to identify a possible cause of the failure. Click <a href='https://aka.ms/vscodeJupyterKernelCrash'>here</a> for more info. View Jupyter <a href='command:jupyter.viewOutput'>log</a> for further details."
     ]
    }
   ],
   "source": [
    "import mesa\n",
    "from traffic.utils import data2np, CellColor\n",
    "from traffic.portrayal import portrayCell\n",
    "from traffic.model import Intersection\n",
    "from mesa.experimental.jupyter_viz import JupyterViz\n",
    "\n",
    "CellColor('0000ff')\n",
    "\n",
    "a = data2np('GRIDS/intersection.data')\n",
    "print(a.shape)\n",
    "\n",
    "canvas_element = mesa.visualization.CanvasGrid(portrayCell, a.shape[0], a.shape[1], 500, 500)\n",
    "\n",
    "server = mesa.visualization.ModularServer(Intersection, [canvas_element], \"Intersection\", {'intersection_array': a})\n",
    "\n",
    "server.launch()\n",
    "\n",
    "# help(mesa.visualization.CanvasGrid)"
   ]
  }
 ],
 "metadata": {
  "kernelspec": {
   "display_name": ".env",
   "language": "python",
   "name": "python3"
  },
  "language_info": {
   "codemirror_mode": {
    "name": "ipython",
    "version": 3
   },
   "file_extension": ".py",
   "mimetype": "text/x-python",
   "name": "python",
   "nbconvert_exporter": "python",
   "pygments_lexer": "ipython3",
   "version": "3.11.6"
  }
 },
 "nbformat": 4,
 "nbformat_minor": 2
}
